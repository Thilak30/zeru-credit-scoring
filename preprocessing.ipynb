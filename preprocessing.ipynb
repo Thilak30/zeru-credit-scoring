{
 "cells": [
  {
   "cell_type": "code",
   "execution_count": 1,
   "id": "1f966998",
   "metadata": {},
   "outputs": [],
   "source": [
    "import pandas as pd\n",
    "import numpy as np\n",
    "import os\n"
   ]
  },
  {
   "cell_type": "code",
   "execution_count": 5,
   "id": "bab12475",
   "metadata": {},
   "outputs": [],
   "source": [
    "json_files= [\n",
    "    \"data/compoundV2_transactions_ethereum_chunk_0.json\",\n",
    "    \"data/compoundV2_transactions_ethereum_chunk_1.json\",\n",
    "    \"data/compoundV2_transactions_ethereum_chunk_2.json\"\n",
    "]\n"
   ]
  },
  {
   "cell_type": "code",
   "execution_count": null,
   "id": "bbfd5fc6",
   "metadata": {},
   "outputs": [
    {
     "name": "stdout",
     "output_type": "stream",
     "text": [
      "[→] Processing: data\\compoundV2_transactions_ethereum_chunk_0.json\n",
      "[→] Processing: data\\compoundV2_transactions_ethereum_chunk_1.json\n",
      "[→] Processing: data\\compoundV2_transactions_ethereum_chunk_2.json\n",
      "✅ Combined Shape: (140737, 11)\n",
      "                               wallet_address    action  \\\n",
      "0  0x502cb8985b2c92a8d4bf309cdaa89de9be442708  deposits   \n",
      "1  0xc8355d0e2c265b2fe495ebbc0fc9ad992b40dc8f  deposits   \n",
      "2  0x502cb8985b2c92a8d4bf309cdaa89de9be442708  deposits   \n",
      "3  0x502cb8985b2c92a8d4bf309cdaa89de9be442708  deposits   \n",
      "4  0x502cb8985b2c92a8d4bf309cdaa89de9be442708  deposits   \n",
      "\n",
      "                   amount                           amount_usd symbol  \n",
      "0       10000000000000000               1.78010000000000014408    ETH  \n",
      "1       80000000000000000              14.24080000000000115264    ETH  \n",
      "2  4582920657824222640301  1562.320140205329756474017145956277    BAT  \n",
      "3  4013962940167102266494              4013.962940167102266494    DAI  \n",
      "4     9990000000000000000             1775.4727500000001641357    ETH  \n",
      "✅ Saved: data/compound_combined.csv\n"
     ]
    }
   ],
   "source": [
    "import os\n",
    "import json\n",
    "import pandas as pd\n",
    "\n",
    "def load_and_flatten_json(file_path):\n",
    "    \"\"\"Load a single nested JSON file and flatten it into a list of DataFrames.\"\"\"\n",
    "    with open(file_path, \"r\") as f:\n",
    "        try:\n",
    "            data = json.load(f)\n",
    "        except json.JSONDecodeError:\n",
    "            print(f\"[✗] Skipping {file_path}: Invalid JSON.\")\n",
    "            return []\n",
    "\n",
    "    frames = []\n",
    "    for action_type, records in data.items():\n",
    "        if isinstance(records, list) and len(records) > 0:\n",
    "            df = pd.json_normalize(records)\n",
    "            df['action'] = action_type\n",
    "            frames.append(df)\n",
    "    return frames\n",
    "\n",
    "# Step 1: Collect all JSON file paths in the folder\n",
    "data_folder = \"data\"\n",
    "json_files = [os.path.join(data_folder, f) for f in os.listdir(data_folder) if f.endswith(\".json\")]\n",
    "\n",
    "all_frames = []\n",
    "\n",
    "# Step 2: Process each file and extract action records\n",
    "for file in json_files:\n",
    "    print(f\"[→] Processing: {file}\")\n",
    "    file_frames = load_and_flatten_json(file)\n",
    "    if file_frames:\n",
    "        all_frames.extend(file_frames)\n",
    "\n",
    "# Step 3: Combine all extracted records\n",
    "if all_frames:\n",
    "    combined_df = pd.concat(all_frames, ignore_index=True)\n",
    "\n",
    "    # Optional column cleanup\n",
    "    combined_df = combined_df.rename(columns={\n",
    "        'account.id': 'wallet_address',\n",
    "        'amountUSD': 'amount_usd',\n",
    "        'amount': 'amount',\n",
    "        'asset.symbol': 'symbol',\n",
    "        'asset.id': 'asset_id',\n",
    "        'hash': 'tx_hash',\n",
    "        'timestamp': 'timestamp'\n",
    "    })\n",
    "\n",
    "    # ✅ Preview the data\n",
    "    print(\"✅ Combined Shape:\", combined_df.shape)\n",
    "    print(combined_df[['wallet_address', 'action', 'amount', 'amount_usd', 'symbol']].head())\n",
    "\n",
    "    # 💾 Save to CSV\n",
    "    combined_df.to_csv(\"data/compound_combined.csv\", index=False)\n",
    "    print(\"✅ Saved: data/compound_combined.csv\")\n",
    "\n",
    "else:\n",
    "    print(\"⚠️ No valid data found in the JSON files.\")\n"
   ]
  },
  {
   "cell_type": "code",
   "execution_count": 13,
   "id": "6a0c420e",
   "metadata": {},
   "outputs": [
    {
     "name": "stdout",
     "output_type": "stream",
     "text": [
      "Initial shape: (140737, 11)\n"
     ]
    }
   ],
   "source": [
    "df = pd.read_csv(\"data/compound_combined.csv\")\n",
    "print(\"Initial shape:\", df.shape)"
   ]
  },
  {
   "cell_type": "code",
   "execution_count": 14,
   "id": "b406efdb",
   "metadata": {},
   "outputs": [],
   "source": [
    "df = df.dropna(subset=['wallet_address', 'action', 'amount'])\n",
    "df['amount_usd'] = pd.to_numeric(df['amount_usd'], errors='coerce')\n",
    "df['amount'] = pd.to_numeric(df['amount'], errors='coerce')\n"
   ]
  },
  {
   "cell_type": "code",
   "execution_count": 15,
   "id": "f418c0e3",
   "metadata": {},
   "outputs": [],
   "source": [
    "if 'timestamp' in df.columns:\n",
    "    df['timestamp'] = pd.to_datetime(df['timestamp'], errors='coerce')\n"
   ]
  },
  {
   "cell_type": "code",
   "execution_count": 16,
   "id": "a93ee24d",
   "metadata": {},
   "outputs": [],
   "source": [
    "df['amount_eth'] = df['amount'] / 1e18\n"
   ]
  },
  {
   "cell_type": "code",
   "execution_count": 17,
   "id": "bd045620",
   "metadata": {},
   "outputs": [],
   "source": [
    "agg_df = df.groupby(['wallet_address', 'action']).agg(\n",
    "    total_amount_eth=('amount_eth', 'sum'),\n",
    "    avg_amount_eth=('amount_eth', 'mean'),\n",
    "    tx_count=('amount_eth', 'count'),\n",
    "    first_tx=('timestamp', 'min'),\n",
    "    last_tx=('timestamp', 'max')\n",
    ").reset_index()\n"
   ]
  },
  {
   "cell_type": "code",
   "execution_count": 18,
   "id": "1653e4d8",
   "metadata": {},
   "outputs": [],
   "source": [
    "wallet_pivot = agg_df.pivot(index='wallet_address', columns='action', values=['total_amount_eth', 'avg_amount_eth', 'tx_count'])\n",
    "wallet_pivot.columns = ['_'.join(col).strip() for col in wallet_pivot.columns]\n",
    "wallet_pivot = wallet_pivot.fillna(0).reset_index()\n"
   ]
  },
  {
   "cell_type": "code",
   "execution_count": 19,
   "id": "14db1eec",
   "metadata": {},
   "outputs": [],
   "source": [
    "wallet_times = df.groupby('wallet_address').agg(\n",
    "    first_tx=('timestamp', 'min'),\n",
    "    last_tx=('timestamp', 'max')\n",
    ").reset_index()\n",
    "wallet_times['active_days'] = (wallet_times['last_tx'] - wallet_times['first_tx']).dt.days + 1\n"
   ]
  },
  {
   "cell_type": "code",
   "execution_count": 20,
   "id": "21ba9430",
   "metadata": {},
   "outputs": [],
   "source": [
    "wallet_features = pd.merge(wallet_pivot, wallet_times[['wallet_address', 'active_days']], on='wallet_address', how='left')\n"
   ]
  },
  {
   "cell_type": "code",
   "execution_count": 21,
   "id": "5b59ca72",
   "metadata": {},
   "outputs": [],
   "source": [
    "wallet_features['borrow_to_deposit_ratio'] = (\n",
    "    wallet_features.get('total_amount_eth_borrows', 0) / (wallet_features.get('total_amount_eth_deposits', 1))\n",
    ")\n",
    "\n",
    "wallet_features['repay_to_borrow_ratio'] = (\n",
    "    wallet_features.get('total_amount_eth_repays', 0) / (wallet_features.get('total_amount_eth_borrows', 1))\n",
    ")\n"
   ]
  },
  {
   "cell_type": "code",
   "execution_count": 22,
   "id": "4228b6b0",
   "metadata": {},
   "outputs": [],
   "source": [
    "wallet_features['tx_total'] = wallet_features[[col for col in wallet_features.columns if col.startswith(\"tx_count_\")]].sum(axis=1)\n"
   ]
  },
  {
   "cell_type": "code",
   "execution_count": 23,
   "id": "49ca0086",
   "metadata": {},
   "outputs": [
    {
     "name": "stdout",
     "output_type": "stream",
     "text": [
      "Final wallet-level features shape: (13484, 17)\n"
     ]
    },
    {
     "data": {
      "text/html": [
       "<div>\n",
       "<style scoped>\n",
       "    .dataframe tbody tr th:only-of-type {\n",
       "        vertical-align: middle;\n",
       "    }\n",
       "\n",
       "    .dataframe tbody tr th {\n",
       "        vertical-align: top;\n",
       "    }\n",
       "\n",
       "    .dataframe thead th {\n",
       "        text-align: right;\n",
       "    }\n",
       "</style>\n",
       "<table border=\"1\" class=\"dataframe\">\n",
       "  <thead>\n",
       "    <tr style=\"text-align: right;\">\n",
       "      <th></th>\n",
       "      <th>wallet_address</th>\n",
       "      <th>total_amount_eth_borrows</th>\n",
       "      <th>total_amount_eth_deposits</th>\n",
       "      <th>total_amount_eth_repays</th>\n",
       "      <th>total_amount_eth_withdraws</th>\n",
       "      <th>avg_amount_eth_borrows</th>\n",
       "      <th>avg_amount_eth_deposits</th>\n",
       "      <th>avg_amount_eth_repays</th>\n",
       "      <th>avg_amount_eth_withdraws</th>\n",
       "      <th>tx_count_borrows</th>\n",
       "      <th>tx_count_deposits</th>\n",
       "      <th>tx_count_repays</th>\n",
       "      <th>tx_count_withdraws</th>\n",
       "      <th>active_days</th>\n",
       "      <th>borrow_to_deposit_ratio</th>\n",
       "      <th>repay_to_borrow_ratio</th>\n",
       "      <th>tx_total</th>\n",
       "    </tr>\n",
       "  </thead>\n",
       "  <tbody>\n",
       "    <tr>\n",
       "      <th>0</th>\n",
       "      <td>0x00000000af5a61acaf76190794e3fdf1289288a1</td>\n",
       "      <td>0.00</td>\n",
       "      <td>0.000000</td>\n",
       "      <td>3.513533e+04</td>\n",
       "      <td>28098.247558</td>\n",
       "      <td>0.00000</td>\n",
       "      <td>0.000000</td>\n",
       "      <td>717.047457</td>\n",
       "      <td>702.456189</td>\n",
       "      <td>0.0</td>\n",
       "      <td>0.0</td>\n",
       "      <td>49.0</td>\n",
       "      <td>40.0</td>\n",
       "      <td>1</td>\n",
       "      <td>NaN</td>\n",
       "      <td>inf</td>\n",
       "      <td>89.0</td>\n",
       "    </tr>\n",
       "    <tr>\n",
       "      <th>1</th>\n",
       "      <td>0x00000000b1786c9698c160d78232c78d6f6474fe</td>\n",
       "      <td>0.00</td>\n",
       "      <td>0.000000</td>\n",
       "      <td>4.228557e+03</td>\n",
       "      <td>0.000000</td>\n",
       "      <td>0.00000</td>\n",
       "      <td>0.000000</td>\n",
       "      <td>151.019876</td>\n",
       "      <td>0.000000</td>\n",
       "      <td>0.0</td>\n",
       "      <td>0.0</td>\n",
       "      <td>28.0</td>\n",
       "      <td>0.0</td>\n",
       "      <td>1</td>\n",
       "      <td>NaN</td>\n",
       "      <td>inf</td>\n",
       "      <td>28.0</td>\n",
       "    </tr>\n",
       "    <tr>\n",
       "      <th>2</th>\n",
       "      <td>0x000000aaee6a496aaf7b7452518781786313400f</td>\n",
       "      <td>1116658.63</td>\n",
       "      <td>710200.963118</td>\n",
       "      <td>1.115716e+06</td>\n",
       "      <td>811868.831903</td>\n",
       "      <td>7112.47535</td>\n",
       "      <td>9344.749515</td>\n",
       "      <td>8084.900285</td>\n",
       "      <td>5412.458879</td>\n",
       "      <td>157.0</td>\n",
       "      <td>76.0</td>\n",
       "      <td>138.0</td>\n",
       "      <td>150.0</td>\n",
       "      <td>1</td>\n",
       "      <td>1.572314</td>\n",
       "      <td>0.999156</td>\n",
       "      <td>521.0</td>\n",
       "    </tr>\n",
       "    <tr>\n",
       "      <th>3</th>\n",
       "      <td>0x00000a6bbb35ea3f6f8dbc94801738f490c30a8d</td>\n",
       "      <td>0.00</td>\n",
       "      <td>6.001887</td>\n",
       "      <td>0.000000e+00</td>\n",
       "      <td>6.041512</td>\n",
       "      <td>0.00000</td>\n",
       "      <td>3.000943</td>\n",
       "      <td>0.000000</td>\n",
       "      <td>3.020756</td>\n",
       "      <td>0.0</td>\n",
       "      <td>2.0</td>\n",
       "      <td>0.0</td>\n",
       "      <td>2.0</td>\n",
       "      <td>1</td>\n",
       "      <td>0.000000</td>\n",
       "      <td>NaN</td>\n",
       "      <td>4.0</td>\n",
       "    </tr>\n",
       "    <tr>\n",
       "      <th>4</th>\n",
       "      <td>0x000206732258d7511fa624127228e6a032718e62</td>\n",
       "      <td>0.00</td>\n",
       "      <td>0.000000</td>\n",
       "      <td>0.000000e+00</td>\n",
       "      <td>256.800571</td>\n",
       "      <td>0.00000</td>\n",
       "      <td>0.000000</td>\n",
       "      <td>0.000000</td>\n",
       "      <td>256.800571</td>\n",
       "      <td>0.0</td>\n",
       "      <td>0.0</td>\n",
       "      <td>0.0</td>\n",
       "      <td>1.0</td>\n",
       "      <td>1</td>\n",
       "      <td>NaN</td>\n",
       "      <td>NaN</td>\n",
       "      <td>1.0</td>\n",
       "    </tr>\n",
       "  </tbody>\n",
       "</table>\n",
       "</div>"
      ],
      "text/plain": [
       "                               wallet_address  total_amount_eth_borrows  \\\n",
       "0  0x00000000af5a61acaf76190794e3fdf1289288a1                      0.00   \n",
       "1  0x00000000b1786c9698c160d78232c78d6f6474fe                      0.00   \n",
       "2  0x000000aaee6a496aaf7b7452518781786313400f                1116658.63   \n",
       "3  0x00000a6bbb35ea3f6f8dbc94801738f490c30a8d                      0.00   \n",
       "4  0x000206732258d7511fa624127228e6a032718e62                      0.00   \n",
       "\n",
       "   total_amount_eth_deposits  total_amount_eth_repays  \\\n",
       "0                   0.000000             3.513533e+04   \n",
       "1                   0.000000             4.228557e+03   \n",
       "2              710200.963118             1.115716e+06   \n",
       "3                   6.001887             0.000000e+00   \n",
       "4                   0.000000             0.000000e+00   \n",
       "\n",
       "   total_amount_eth_withdraws  avg_amount_eth_borrows  \\\n",
       "0                28098.247558                 0.00000   \n",
       "1                    0.000000                 0.00000   \n",
       "2               811868.831903              7112.47535   \n",
       "3                    6.041512                 0.00000   \n",
       "4                  256.800571                 0.00000   \n",
       "\n",
       "   avg_amount_eth_deposits  avg_amount_eth_repays  avg_amount_eth_withdraws  \\\n",
       "0                 0.000000             717.047457                702.456189   \n",
       "1                 0.000000             151.019876                  0.000000   \n",
       "2              9344.749515            8084.900285               5412.458879   \n",
       "3                 3.000943               0.000000                  3.020756   \n",
       "4                 0.000000               0.000000                256.800571   \n",
       "\n",
       "   tx_count_borrows  tx_count_deposits  tx_count_repays  tx_count_withdraws  \\\n",
       "0               0.0                0.0             49.0                40.0   \n",
       "1               0.0                0.0             28.0                 0.0   \n",
       "2             157.0               76.0            138.0               150.0   \n",
       "3               0.0                2.0              0.0                 2.0   \n",
       "4               0.0                0.0              0.0                 1.0   \n",
       "\n",
       "   active_days  borrow_to_deposit_ratio  repay_to_borrow_ratio  tx_total  \n",
       "0            1                      NaN                    inf      89.0  \n",
       "1            1                      NaN                    inf      28.0  \n",
       "2            1                 1.572314               0.999156     521.0  \n",
       "3            1                 0.000000                    NaN       4.0  \n",
       "4            1                      NaN                    NaN       1.0  "
      ]
     },
     "execution_count": 23,
     "metadata": {},
     "output_type": "execute_result"
    }
   ],
   "source": [
    "print(\"Final wallet-level features shape:\", wallet_features.shape)\n",
    "wallet_features.head()\n"
   ]
  },
  {
   "cell_type": "code",
   "execution_count": 24,
   "id": "b2865497",
   "metadata": {},
   "outputs": [],
   "source": [
    "wallet_features.to_csv(\"data/final_wallet_features.csv\", index=False)\n"
   ]
  }
 ],
 "metadata": {
  "kernelspec": {
   "display_name": "Python 3",
   "language": "python",
   "name": "python3"
  },
  "language_info": {
   "codemirror_mode": {
    "name": "ipython",
    "version": 3
   },
   "file_extension": ".py",
   "mimetype": "text/x-python",
   "name": "python",
   "nbconvert_exporter": "python",
   "pygments_lexer": "ipython3",
   "version": "3.10.6"
  }
 },
 "nbformat": 4,
 "nbformat_minor": 5
}
